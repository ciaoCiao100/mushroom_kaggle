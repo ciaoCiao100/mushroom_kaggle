{
  "nbformat": 4,
  "nbformat_minor": 0,
  "metadata": {
    "colab": {
      "name": "mushroom_kaggle.ipynb",
      "provenance": [],
      "collapsed_sections": [],
      "mount_file_id": "1UXjjn5wNmkioUJght-ZmXN1y22o9v2dW",
      "authorship_tag": "ABX9TyNXEvj+WrVXrjpHtZDtYMyr",
      "include_colab_link": true
    },
    "kernelspec": {
      "name": "python3",
      "display_name": "Python 3"
    }
  },
  "cells": [
    {
      "cell_type": "markdown",
      "metadata": {
        "id": "view-in-github",
        "colab_type": "text"
      },
      "source": [
        "<a href=\"https://colab.research.google.com/github/ciaoCiao100/mushroom_kaggle/blob/master/mushroom_kaggle.ipynb\" target=\"_parent\"><img src=\"https://colab.research.google.com/assets/colab-badge.svg\" alt=\"Open In Colab\"/></a>"
      ]
    },
    {
      "cell_type": "markdown",
      "metadata": {
        "id": "DZuRgS5mljhq",
        "colab_type": "text"
      },
      "source": [
        "# vengono importate le librerie utili "
      ]
    },
    {
      "cell_type": "code",
      "metadata": {
        "id": "R9v4Q3ZIlM2Q",
        "colab_type": "code",
        "colab": {}
      },
      "source": [
        "import numpy as np\n",
        "import pandas as pd\n",
        "import tensorflow as tf\n",
        "from tensorflow import feature_column\n",
        "from tensorflow.keras import layers\n",
        "from sklearn.model_selection import train_test_split\n",
        "\n",
        "# operazione che fa in modo che i numeri siano più leggibili\n",
        "np.set_printoptions(precision=3, suppress=True)"
      ],
      "execution_count": 0,
      "outputs": []
    },
    {
      "cell_type": "markdown",
      "metadata": {
        "id": "ZlB2YDyulPEv",
        "colab_type": "text"
      },
      "source": [
        "# Download del dataset e lettura generica "
      ]
    },
    {
      "cell_type": "code",
      "metadata": {
        "id": "QdQVsw19mqeF",
        "colab_type": "code",
        "colab": {
          "base_uri": "https://localhost:8080/",
          "height": 214
        },
        "outputId": "8ff67439-6fd1-43ed-f823-2f873159c538"
      },
      "source": [
        "data_path = \"/content/drive/My Drive/mushroom_data_all.csv\"\n",
        "df = pd.read_csv(data_path)\n",
        "target_label =\"class_edible\"\n",
        "df.head()"
      ],
      "execution_count": 46,
      "outputs": [
        {
          "output_type": "execute_result",
          "data": {
            "text/html": [
              "<div>\n",
              "<style scoped>\n",
              "    .dataframe tbody tr th:only-of-type {\n",
              "        vertical-align: middle;\n",
              "    }\n",
              "\n",
              "    .dataframe tbody tr th {\n",
              "        vertical-align: top;\n",
              "    }\n",
              "\n",
              "    .dataframe thead th {\n",
              "        text-align: right;\n",
              "    }\n",
              "</style>\n",
              "<table border=\"1\" class=\"dataframe\">\n",
              "  <thead>\n",
              "    <tr style=\"text-align: right;\">\n",
              "      <th></th>\n",
              "      <th>class_edible</th>\n",
              "      <th>cap-shape</th>\n",
              "      <th>cap-surface</th>\n",
              "      <th>cap-color</th>\n",
              "      <th>bruises</th>\n",
              "      <th>odor</th>\n",
              "      <th>gill-attachment</th>\n",
              "      <th>gill-spacing</th>\n",
              "      <th>gill-size</th>\n",
              "      <th>gill-color</th>\n",
              "      <th>stalk-shape</th>\n",
              "      <th>stalk-root</th>\n",
              "      <th>stalk-surface-above-ring</th>\n",
              "      <th>stalk-surface-below-ring</th>\n",
              "      <th>stalk-color-above-ring</th>\n",
              "      <th>stalk-color-below-ring</th>\n",
              "      <th>veil-type</th>\n",
              "      <th>veil-color</th>\n",
              "      <th>ring-number</th>\n",
              "      <th>ring-type</th>\n",
              "      <th>spore-print-color</th>\n",
              "      <th>population</th>\n",
              "      <th>habitat</th>\n",
              "    </tr>\n",
              "  </thead>\n",
              "  <tbody>\n",
              "    <tr>\n",
              "      <th>0</th>\n",
              "      <td>p</td>\n",
              "      <td>x</td>\n",
              "      <td>s</td>\n",
              "      <td>n</td>\n",
              "      <td>t</td>\n",
              "      <td>p</td>\n",
              "      <td>f</td>\n",
              "      <td>c</td>\n",
              "      <td>n</td>\n",
              "      <td>k</td>\n",
              "      <td>e</td>\n",
              "      <td>e</td>\n",
              "      <td>s</td>\n",
              "      <td>s</td>\n",
              "      <td>w</td>\n",
              "      <td>w</td>\n",
              "      <td>p</td>\n",
              "      <td>w</td>\n",
              "      <td>o</td>\n",
              "      <td>p</td>\n",
              "      <td>k</td>\n",
              "      <td>s</td>\n",
              "      <td>u</td>\n",
              "    </tr>\n",
              "    <tr>\n",
              "      <th>1</th>\n",
              "      <td>e</td>\n",
              "      <td>x</td>\n",
              "      <td>s</td>\n",
              "      <td>y</td>\n",
              "      <td>t</td>\n",
              "      <td>a</td>\n",
              "      <td>f</td>\n",
              "      <td>c</td>\n",
              "      <td>b</td>\n",
              "      <td>k</td>\n",
              "      <td>e</td>\n",
              "      <td>c</td>\n",
              "      <td>s</td>\n",
              "      <td>s</td>\n",
              "      <td>w</td>\n",
              "      <td>w</td>\n",
              "      <td>p</td>\n",
              "      <td>w</td>\n",
              "      <td>o</td>\n",
              "      <td>p</td>\n",
              "      <td>n</td>\n",
              "      <td>n</td>\n",
              "      <td>g</td>\n",
              "    </tr>\n",
              "    <tr>\n",
              "      <th>2</th>\n",
              "      <td>e</td>\n",
              "      <td>b</td>\n",
              "      <td>s</td>\n",
              "      <td>w</td>\n",
              "      <td>t</td>\n",
              "      <td>l</td>\n",
              "      <td>f</td>\n",
              "      <td>c</td>\n",
              "      <td>b</td>\n",
              "      <td>n</td>\n",
              "      <td>e</td>\n",
              "      <td>c</td>\n",
              "      <td>s</td>\n",
              "      <td>s</td>\n",
              "      <td>w</td>\n",
              "      <td>w</td>\n",
              "      <td>p</td>\n",
              "      <td>w</td>\n",
              "      <td>o</td>\n",
              "      <td>p</td>\n",
              "      <td>n</td>\n",
              "      <td>n</td>\n",
              "      <td>m</td>\n",
              "    </tr>\n",
              "    <tr>\n",
              "      <th>3</th>\n",
              "      <td>p</td>\n",
              "      <td>x</td>\n",
              "      <td>y</td>\n",
              "      <td>w</td>\n",
              "      <td>t</td>\n",
              "      <td>p</td>\n",
              "      <td>f</td>\n",
              "      <td>c</td>\n",
              "      <td>n</td>\n",
              "      <td>n</td>\n",
              "      <td>e</td>\n",
              "      <td>e</td>\n",
              "      <td>s</td>\n",
              "      <td>s</td>\n",
              "      <td>w</td>\n",
              "      <td>w</td>\n",
              "      <td>p</td>\n",
              "      <td>w</td>\n",
              "      <td>o</td>\n",
              "      <td>p</td>\n",
              "      <td>k</td>\n",
              "      <td>s</td>\n",
              "      <td>u</td>\n",
              "    </tr>\n",
              "    <tr>\n",
              "      <th>4</th>\n",
              "      <td>e</td>\n",
              "      <td>x</td>\n",
              "      <td>s</td>\n",
              "      <td>g</td>\n",
              "      <td>f</td>\n",
              "      <td>n</td>\n",
              "      <td>f</td>\n",
              "      <td>w</td>\n",
              "      <td>b</td>\n",
              "      <td>k</td>\n",
              "      <td>t</td>\n",
              "      <td>e</td>\n",
              "      <td>s</td>\n",
              "      <td>s</td>\n",
              "      <td>w</td>\n",
              "      <td>w</td>\n",
              "      <td>p</td>\n",
              "      <td>w</td>\n",
              "      <td>o</td>\n",
              "      <td>e</td>\n",
              "      <td>n</td>\n",
              "      <td>a</td>\n",
              "      <td>g</td>\n",
              "    </tr>\n",
              "  </tbody>\n",
              "</table>\n",
              "</div>"
            ],
            "text/plain": [
              "  class_edible cap-shape cap-surface  ... spore-print-color population habitat\n",
              "0            p         x           s  ...                 k          s       u\n",
              "1            e         x           s  ...                 n          n       g\n",
              "2            e         b           s  ...                 n          n       m\n",
              "3            p         x           y  ...                 k          s       u\n",
              "4            e         x           s  ...                 n          a       g\n",
              "\n",
              "[5 rows x 23 columns]"
            ]
          },
          "metadata": {
            "tags": []
          },
          "execution_count": 46
        }
      ]
    },
    {
      "cell_type": "markdown",
      "metadata": {
        "id": "evCrZq5ZsOTz",
        "colab_type": "text"
      },
      "source": [
        "# conversione degli elementi presenti in tabella in interi"
      ]
    },
    {
      "cell_type": "code",
      "metadata": {
        "id": "WyRO_Ldpsb1F",
        "colab_type": "code",
        "colab": {
          "base_uri": "https://localhost:8080/",
          "height": 214
        },
        "outputId": "a38471b8-2fc3-4df9-8d47-95e067058adb"
      },
      "source": [
        "#tutte le colonne che contengono stringhe devono essere trasformate in colonne che contengono interi \n",
        "for elemento in df:\n",
        " \n",
        "  df[elemento] = pd.Categorical(df[elemento])\n",
        "  df[elemento] = getattr(df, elemento).cat.codes\n",
        "# mostro il dataset dopo l'operazione\n",
        "df.head()\n",
        "\n"
      ],
      "execution_count": 47,
      "outputs": [
        {
          "output_type": "execute_result",
          "data": {
            "text/html": [
              "<div>\n",
              "<style scoped>\n",
              "    .dataframe tbody tr th:only-of-type {\n",
              "        vertical-align: middle;\n",
              "    }\n",
              "\n",
              "    .dataframe tbody tr th {\n",
              "        vertical-align: top;\n",
              "    }\n",
              "\n",
              "    .dataframe thead th {\n",
              "        text-align: right;\n",
              "    }\n",
              "</style>\n",
              "<table border=\"1\" class=\"dataframe\">\n",
              "  <thead>\n",
              "    <tr style=\"text-align: right;\">\n",
              "      <th></th>\n",
              "      <th>class_edible</th>\n",
              "      <th>cap-shape</th>\n",
              "      <th>cap-surface</th>\n",
              "      <th>cap-color</th>\n",
              "      <th>bruises</th>\n",
              "      <th>odor</th>\n",
              "      <th>gill-attachment</th>\n",
              "      <th>gill-spacing</th>\n",
              "      <th>gill-size</th>\n",
              "      <th>gill-color</th>\n",
              "      <th>stalk-shape</th>\n",
              "      <th>stalk-root</th>\n",
              "      <th>stalk-surface-above-ring</th>\n",
              "      <th>stalk-surface-below-ring</th>\n",
              "      <th>stalk-color-above-ring</th>\n",
              "      <th>stalk-color-below-ring</th>\n",
              "      <th>veil-type</th>\n",
              "      <th>veil-color</th>\n",
              "      <th>ring-number</th>\n",
              "      <th>ring-type</th>\n",
              "      <th>spore-print-color</th>\n",
              "      <th>population</th>\n",
              "      <th>habitat</th>\n",
              "    </tr>\n",
              "  </thead>\n",
              "  <tbody>\n",
              "    <tr>\n",
              "      <th>0</th>\n",
              "      <td>1</td>\n",
              "      <td>5</td>\n",
              "      <td>2</td>\n",
              "      <td>4</td>\n",
              "      <td>1</td>\n",
              "      <td>6</td>\n",
              "      <td>1</td>\n",
              "      <td>0</td>\n",
              "      <td>1</td>\n",
              "      <td>4</td>\n",
              "      <td>0</td>\n",
              "      <td>3</td>\n",
              "      <td>2</td>\n",
              "      <td>2</td>\n",
              "      <td>7</td>\n",
              "      <td>7</td>\n",
              "      <td>0</td>\n",
              "      <td>2</td>\n",
              "      <td>1</td>\n",
              "      <td>4</td>\n",
              "      <td>2</td>\n",
              "      <td>3</td>\n",
              "      <td>5</td>\n",
              "    </tr>\n",
              "    <tr>\n",
              "      <th>1</th>\n",
              "      <td>0</td>\n",
              "      <td>5</td>\n",
              "      <td>2</td>\n",
              "      <td>9</td>\n",
              "      <td>1</td>\n",
              "      <td>0</td>\n",
              "      <td>1</td>\n",
              "      <td>0</td>\n",
              "      <td>0</td>\n",
              "      <td>4</td>\n",
              "      <td>0</td>\n",
              "      <td>2</td>\n",
              "      <td>2</td>\n",
              "      <td>2</td>\n",
              "      <td>7</td>\n",
              "      <td>7</td>\n",
              "      <td>0</td>\n",
              "      <td>2</td>\n",
              "      <td>1</td>\n",
              "      <td>4</td>\n",
              "      <td>3</td>\n",
              "      <td>2</td>\n",
              "      <td>1</td>\n",
              "    </tr>\n",
              "    <tr>\n",
              "      <th>2</th>\n",
              "      <td>0</td>\n",
              "      <td>0</td>\n",
              "      <td>2</td>\n",
              "      <td>8</td>\n",
              "      <td>1</td>\n",
              "      <td>3</td>\n",
              "      <td>1</td>\n",
              "      <td>0</td>\n",
              "      <td>0</td>\n",
              "      <td>5</td>\n",
              "      <td>0</td>\n",
              "      <td>2</td>\n",
              "      <td>2</td>\n",
              "      <td>2</td>\n",
              "      <td>7</td>\n",
              "      <td>7</td>\n",
              "      <td>0</td>\n",
              "      <td>2</td>\n",
              "      <td>1</td>\n",
              "      <td>4</td>\n",
              "      <td>3</td>\n",
              "      <td>2</td>\n",
              "      <td>3</td>\n",
              "    </tr>\n",
              "    <tr>\n",
              "      <th>3</th>\n",
              "      <td>1</td>\n",
              "      <td>5</td>\n",
              "      <td>3</td>\n",
              "      <td>8</td>\n",
              "      <td>1</td>\n",
              "      <td>6</td>\n",
              "      <td>1</td>\n",
              "      <td>0</td>\n",
              "      <td>1</td>\n",
              "      <td>5</td>\n",
              "      <td>0</td>\n",
              "      <td>3</td>\n",
              "      <td>2</td>\n",
              "      <td>2</td>\n",
              "      <td>7</td>\n",
              "      <td>7</td>\n",
              "      <td>0</td>\n",
              "      <td>2</td>\n",
              "      <td>1</td>\n",
              "      <td>4</td>\n",
              "      <td>2</td>\n",
              "      <td>3</td>\n",
              "      <td>5</td>\n",
              "    </tr>\n",
              "    <tr>\n",
              "      <th>4</th>\n",
              "      <td>0</td>\n",
              "      <td>5</td>\n",
              "      <td>2</td>\n",
              "      <td>3</td>\n",
              "      <td>0</td>\n",
              "      <td>5</td>\n",
              "      <td>1</td>\n",
              "      <td>1</td>\n",
              "      <td>0</td>\n",
              "      <td>4</td>\n",
              "      <td>1</td>\n",
              "      <td>3</td>\n",
              "      <td>2</td>\n",
              "      <td>2</td>\n",
              "      <td>7</td>\n",
              "      <td>7</td>\n",
              "      <td>0</td>\n",
              "      <td>2</td>\n",
              "      <td>1</td>\n",
              "      <td>0</td>\n",
              "      <td>3</td>\n",
              "      <td>0</td>\n",
              "      <td>1</td>\n",
              "    </tr>\n",
              "  </tbody>\n",
              "</table>\n",
              "</div>"
            ],
            "text/plain": [
              "   class_edible  cap-shape  cap-surface  ...  spore-print-color  population  habitat\n",
              "0             1          5            2  ...                  2           3        5\n",
              "1             0          5            2  ...                  3           2        1\n",
              "2             0          0            2  ...                  3           2        3\n",
              "3             1          5            3  ...                  2           3        5\n",
              "4             0          5            2  ...                  3           0        1\n",
              "\n",
              "[5 rows x 23 columns]"
            ]
          },
          "metadata": {
            "tags": []
          },
          "execution_count": 47
        }
      ]
    },
    {
      "cell_type": "markdown",
      "metadata": {
        "id": "B0CxHWaatWoS",
        "colab_type": "text"
      },
      "source": [
        "# preparazione del modello di rete neurale "
      ]
    },
    {
      "cell_type": "code",
      "metadata": {
        "id": "eL24H5hzteZs",
        "colab_type": "code",
        "colab": {}
      },
      "source": [
        "#costruisco il modello\n",
        "def get_compiled_model():\n",
        "  model = tf.keras.Sequential([\n",
        "    tf.keras.layers.Dense(10, activation='relu'),\n",
        "    tf.keras.layers.Dense(10, activation='relu'),\n",
        "    tf.keras.layers.Dense(1)\n",
        "  ])\n",
        "\n",
        "  model.compile(optimizer='adam',\n",
        "                loss=tf.keras.losses.BinaryCrossentropy(from_logits=True),\n",
        "                metrics=['accuracy'])\n",
        "  return model\n",
        "\n",
        "model = get_compiled_model()\n",
        "#preparo il dataset\n",
        "train, test = train_test_split(df, test_size=0.2)\n",
        "train, val = train_test_split(train, test_size=0.2)"
      ],
      "execution_count": 0,
      "outputs": []
    },
    {
      "cell_type": "markdown",
      "metadata": {
        "id": "Sx0-h-XIuRPC",
        "colab_type": "text"
      },
      "source": [
        "# addestramento"
      ]
    },
    {
      "cell_type": "code",
      "metadata": {
        "id": "D3XMzma-uTwg",
        "colab_type": "code",
        "colab": {
          "base_uri": "https://localhost:8080/",
          "height": 716
        },
        "outputId": "db1cc1f0-6342-4d4d-d4c7-0ae58e48e488"
      },
      "source": [
        "# Creazione  del training\n",
        "train_target = train.pop(target_label)\n",
        "train_dataset = (tf.data.Dataset.from_tensor_slices((train.values, train_target.values))).shuffle(len(train)).batch(1)\n",
        "#addestramento e impostazione epoche\n",
        "model.fit(train_dataset, epochs=20)"
      ],
      "execution_count": 49,
      "outputs": [
        {
          "output_type": "stream",
          "text": [
            "Epoch 1/20\n",
            "5199/5199 [==============================] - 6s 1ms/step - loss: 0.3240 - accuracy: 0.8757\n",
            "Epoch 2/20\n",
            "5199/5199 [==============================] - 6s 1ms/step - loss: 0.1137 - accuracy: 0.9638\n",
            "Epoch 3/20\n",
            "5199/5199 [==============================] - 6s 1ms/step - loss: 0.0639 - accuracy: 0.9777\n",
            "Epoch 4/20\n",
            "5199/5199 [==============================] - 6s 1ms/step - loss: 0.0472 - accuracy: 0.9854\n",
            "Epoch 5/20\n",
            "5199/5199 [==============================] - 6s 1ms/step - loss: 0.0281 - accuracy: 0.9900\n",
            "Epoch 6/20\n",
            "5199/5199 [==============================] - 6s 1ms/step - loss: 0.0221 - accuracy: 0.9917\n",
            "Epoch 7/20\n",
            "5199/5199 [==============================] - 6s 1ms/step - loss: 0.0179 - accuracy: 0.9933\n",
            "Epoch 8/20\n",
            "5199/5199 [==============================] - 6s 1ms/step - loss: 0.0112 - accuracy: 0.9958\n",
            "Epoch 9/20\n",
            "5199/5199 [==============================] - 6s 1ms/step - loss: 0.0090 - accuracy: 0.9965\n",
            "Epoch 10/20\n",
            "5199/5199 [==============================] - 6s 1ms/step - loss: 0.0115 - accuracy: 0.9960\n",
            "Epoch 11/20\n",
            "5199/5199 [==============================] - 6s 1ms/step - loss: 0.0039 - accuracy: 0.9983\n",
            "Epoch 12/20\n",
            "5199/5199 [==============================] - 6s 1ms/step - loss: 0.0088 - accuracy: 0.9969\n",
            "Epoch 13/20\n",
            "5199/5199 [==============================] - 6s 1ms/step - loss: 0.0053 - accuracy: 0.9981\n",
            "Epoch 14/20\n",
            "5199/5199 [==============================] - 6s 1ms/step - loss: 0.0031 - accuracy: 0.9988\n",
            "Epoch 15/20\n",
            "5199/5199 [==============================] - 6s 1ms/step - loss: 0.0059 - accuracy: 0.9979\n",
            "Epoch 16/20\n",
            "5199/5199 [==============================] - 6s 1ms/step - loss: 0.0077 - accuracy: 0.9985\n",
            "Epoch 17/20\n",
            "5199/5199 [==============================] - 6s 1ms/step - loss: 0.0056 - accuracy: 0.9981\n",
            "Epoch 18/20\n",
            "5199/5199 [==============================] - 6s 1ms/step - loss: 0.0051 - accuracy: 0.9985\n",
            "Epoch 19/20\n",
            "5199/5199 [==============================] - 6s 1ms/step - loss: 0.0068 - accuracy: 0.9983\n",
            "Epoch 20/20\n",
            "5199/5199 [==============================] - 6s 1ms/step - loss: 0.0021 - accuracy: 0.9994\n"
          ],
          "name": "stdout"
        },
        {
          "output_type": "execute_result",
          "data": {
            "text/plain": [
              "<tensorflow.python.keras.callbacks.History at 0x7fc3ea7157b8>"
            ]
          },
          "metadata": {
            "tags": []
          },
          "execution_count": 49
        }
      ]
    },
    {
      "cell_type": "markdown",
      "metadata": {
        "id": "1vFWX2yTvmO5",
        "colab_type": "text"
      },
      "source": [
        "## test"
      ]
    },
    {
      "cell_type": "code",
      "metadata": {
        "id": "8N31m9Srvp3q",
        "colab_type": "code",
        "colab": {
          "base_uri": "https://localhost:8080/",
          "height": 85
        },
        "outputId": "93c868c4-f409-4d0c-e7ae-a18892c82783"
      },
      "source": [
        "# Creazione del  test \n",
        "test_target = test.pop(target_label)\n",
        "test_dataset = (tf.data.Dataset.from_tensor_slices((test.values, test_target.values))).shuffle(len(test)).batch(1)\n",
        "\n",
        "# Fase di test\n",
        "test_loss, test_accuracy = model.evaluate(test_dataset)\n",
        "print('\\n\\nTest Loss {}, Test Accuracy {}'.format(test_loss, test_accuracy))"
      ],
      "execution_count": 50,
      "outputs": [
        {
          "output_type": "stream",
          "text": [
            "1625/1625 [==============================] - 1s 862us/step - loss: 0.0814 - accuracy: 0.9742\n",
            "\n",
            "\n",
            "Test Loss 0.08140578866004944, Test Accuracy 0.9741538166999817\n"
          ],
          "name": "stdout"
        }
      ]
    },
    {
      "cell_type": "markdown",
      "metadata": {
        "id": "FdTpyZ5vya_B",
        "colab_type": "text"
      },
      "source": [
        "# valutazione"
      ]
    },
    {
      "cell_type": "code",
      "metadata": {
        "id": "XpbMMy5kyc7T",
        "colab_type": "code",
        "colab": {
          "base_uri": "https://localhost:8080/",
          "height": 187
        },
        "outputId": "59d5dbae-8c32-4d8d-d0df-bbcc838bd0be"
      },
      "source": [
        "#valutazione\n",
        "val_target = val.pop(target_label)\n",
        "\n",
        "val_dataset = (tf.data.Dataset.from_tensor_slices(val.values)).batch(1)\n",
        "\n",
        "# Fase di valutazione\n",
        "predictions = model.predict(val_dataset)\n",
        "\n",
        "\n",
        "# Show some results \n",
        "for prediction, avvelenato in zip(predictions[:10], list(val_target)[:10]):\n",
        "  prediction = tf.sigmoid(prediction).numpy()\n",
        "  print(\"Predicted avvelenato: {:.2%}\".format(prediction[0]),\n",
        "        \" | Actual outcome: \",\n",
        "        (\"AVVELENATO\" if bool(avvelenato) else \"SICURO\"))\n"
      ],
      "execution_count": 51,
      "outputs": [
        {
          "output_type": "stream",
          "text": [
            "Predicted avvelenato: 100.00%  | Actual outcome:  AVVELENATO\n",
            "Predicted avvelenato: 0.00%  | Actual outcome:  SICURO\n",
            "Predicted avvelenato: 100.00%  | Actual outcome:  AVVELENATO\n",
            "Predicted avvelenato: 0.00%  | Actual outcome:  SICURO\n",
            "Predicted avvelenato: 0.00%  | Actual outcome:  SICURO\n",
            "Predicted avvelenato: 100.00%  | Actual outcome:  AVVELENATO\n",
            "Predicted avvelenato: 100.00%  | Actual outcome:  AVVELENATO\n",
            "Predicted avvelenato: 0.00%  | Actual outcome:  SICURO\n",
            "Predicted avvelenato: 100.00%  | Actual outcome:  AVVELENATO\n",
            "Predicted avvelenato: 100.00%  | Actual outcome:  AVVELENATO\n"
          ],
          "name": "stdout"
        }
      ]
    }
  ]
}